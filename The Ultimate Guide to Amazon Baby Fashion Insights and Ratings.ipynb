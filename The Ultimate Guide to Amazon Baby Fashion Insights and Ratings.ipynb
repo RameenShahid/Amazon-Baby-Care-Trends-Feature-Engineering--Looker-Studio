{
 "cells": [
  {
   "cell_type": "markdown",
   "id": "a7e8984d-e5a8-4f80-a077-3e32418128d6",
   "metadata": {},
   "source": [
    "# The Ultimate Guide to Amazon Baby Fashion: Insights and Ratings"
   ]
  },
  {
   "cell_type": "code",
   "execution_count": 1,
   "id": "4992d5d3-8b61-4691-aab9-4f8505249190",
   "metadata": {},
   "outputs": [],
   "source": [
    "import pandas as pd\n",
    "import numpy as np"
   ]
  },
  {
   "cell_type": "code",
   "execution_count": 4,
   "id": "e178ed41-3e66-4a56-9390-d171c859bedc",
   "metadata": {},
   "outputs": [
    {
     "name": "stdout",
     "output_type": "stream",
     "text": [
      "<class 'pandas.core.frame.DataFrame'>\n",
      "RangeIndex: 2208 entries, 0 to 2207\n",
      "Data columns (total 9 columns):\n",
      " #   Column          Non-Null Count  Dtype \n",
      "---  ------          --------------  ----- \n",
      " 0   name            2208 non-null   object\n",
      " 1   main_category   2208 non-null   object\n",
      " 2   sub_category    2208 non-null   object\n",
      " 3   image           2208 non-null   object\n",
      " 4   link            2208 non-null   object\n",
      " 5   ratings         1262 non-null   object\n",
      " 6   no_of_ratings   1262 non-null   object\n",
      " 7   discount_price  2032 non-null   object\n",
      " 8   actual_price    2152 non-null   object\n",
      "dtypes: object(9)\n",
      "memory usage: 155.4+ KB\n"
     ]
    }
   ],
   "source": [
    "df = pd.read_csv('Baby Fashion.csv')\n",
    "\n",
    "df.info()"
   ]
  },
  {
   "cell_type": "code",
   "execution_count": 5,
   "id": "a701cce9-7568-4e62-bb11-72090c1d089d",
   "metadata": {},
   "outputs": [
    {
     "name": "stdout",
     "output_type": "stream",
     "text": [
      "Index(['name', 'main_category', 'sub_category', 'ratings', 'no_of_ratings',\n",
      "       'discount_price', 'actual_price'],\n",
      "      dtype='object')\n"
     ]
    }
   ],
   "source": [
    "# Drop 'image' and 'link' columns\n",
    "df = df.drop(['image', 'link'], axis=1)\n",
    "\n",
    "# Optional: Confirm the columns are removed\n",
    "print(df.columns)\n"
   ]
  },
  {
   "cell_type": "code",
   "execution_count": 6,
   "id": "af340aa8-563b-4395-b273-5e9105854f50",
   "metadata": {},
   "outputs": [
    {
     "data": {
      "text/html": [
       "<div>\n",
       "<style scoped>\n",
       "    .dataframe tbody tr th:only-of-type {\n",
       "        vertical-align: middle;\n",
       "    }\n",
       "\n",
       "    .dataframe tbody tr th {\n",
       "        vertical-align: top;\n",
       "    }\n",
       "\n",
       "    .dataframe thead th {\n",
       "        text-align: right;\n",
       "    }\n",
       "</style>\n",
       "<table border=\"1\" class=\"dataframe\">\n",
       "  <thead>\n",
       "    <tr style=\"text-align: right;\">\n",
       "      <th></th>\n",
       "      <th>name</th>\n",
       "      <th>main_category</th>\n",
       "      <th>sub_category</th>\n",
       "      <th>ratings</th>\n",
       "      <th>no_of_ratings</th>\n",
       "      <th>discount_price</th>\n",
       "      <th>actual_price</th>\n",
       "    </tr>\n",
       "  </thead>\n",
       "  <tbody>\n",
       "    <tr>\n",
       "      <th>0</th>\n",
       "      <td>EIO New Born Baby Gift Set -13 Piecess (Pink)</td>\n",
       "      <td>kids' fashion</td>\n",
       "      <td>Baby Fashion</td>\n",
       "      <td>4.2</td>\n",
       "      <td>2,958</td>\n",
       "      <td>₹649</td>\n",
       "      <td>₹1,499</td>\n",
       "    </tr>\n",
       "    <tr>\n",
       "      <th>1</th>\n",
       "      <td>exciting Lives - Vintage Motorbike Pocket Watc...</td>\n",
       "      <td>kids' fashion</td>\n",
       "      <td>Baby Fashion</td>\n",
       "      <td>4.2</td>\n",
       "      <td>161</td>\n",
       "      <td>₹485</td>\n",
       "      <td>₹699</td>\n",
       "    </tr>\n",
       "    <tr>\n",
       "      <th>2</th>\n",
       "      <td>Jewel string by Bk arts Evil Eye Baby Nazaria ...</td>\n",
       "      <td>kids' fashion</td>\n",
       "      <td>Baby Fashion</td>\n",
       "      <td>4.2</td>\n",
       "      <td>962</td>\n",
       "      <td>₹249</td>\n",
       "      <td>₹799</td>\n",
       "    </tr>\n",
       "    <tr>\n",
       "      <th>3</th>\n",
       "      <td>Superminis Unisex-baby's Bootie</td>\n",
       "      <td>kids' fashion</td>\n",
       "      <td>Baby Fashion</td>\n",
       "      <td>4.1</td>\n",
       "      <td>2,046</td>\n",
       "      <td>₹350</td>\n",
       "      <td>₹899</td>\n",
       "    </tr>\n",
       "    <tr>\n",
       "      <th>4</th>\n",
       "      <td>My Newborn Baby Mittens Caps Gloves and Booty ...</td>\n",
       "      <td>kids' fashion</td>\n",
       "      <td>Baby Fashion</td>\n",
       "      <td>3.8</td>\n",
       "      <td>5,601</td>\n",
       "      <td>₹299</td>\n",
       "      <td>₹900</td>\n",
       "    </tr>\n",
       "  </tbody>\n",
       "</table>\n",
       "</div>"
      ],
      "text/plain": [
       "                                                name  main_category  \\\n",
       "0      EIO New Born Baby Gift Set -13 Piecess (Pink)  kids' fashion   \n",
       "1  exciting Lives - Vintage Motorbike Pocket Watc...  kids' fashion   \n",
       "2  Jewel string by Bk arts Evil Eye Baby Nazaria ...  kids' fashion   \n",
       "3                    Superminis Unisex-baby's Bootie  kids' fashion   \n",
       "4  My Newborn Baby Mittens Caps Gloves and Booty ...  kids' fashion   \n",
       "\n",
       "   sub_category ratings no_of_ratings discount_price actual_price  \n",
       "0  Baby Fashion     4.2         2,958           ₹649       ₹1,499  \n",
       "1  Baby Fashion     4.2           161           ₹485         ₹699  \n",
       "2  Baby Fashion     4.2           962           ₹249         ₹799  \n",
       "3  Baby Fashion     4.1         2,046           ₹350         ₹899  \n",
       "4  Baby Fashion     3.8         5,601           ₹299         ₹900  "
      ]
     },
     "execution_count": 6,
     "metadata": {},
     "output_type": "execute_result"
    }
   ],
   "source": [
    "df.head()"
   ]
  },
  {
   "cell_type": "markdown",
   "id": "d5b59923-baf9-44e4-a21f-c8b44e4d87e2",
   "metadata": {},
   "source": [
    "## Exploratory Data Analysis (EDA) \n",
    "##### Check the data structure\n",
    "\n",
    "##### Handle missing values\n",
    "\n",
    "##### Clean price & rating columns\n",
    "\n",
    "##### Summarize categorical variables\n",
    "\n",
    "##### Visualize insights"
   ]
  },
  {
   "cell_type": "code",
   "execution_count": 7,
   "id": "27355f19-2735-4d3b-a7e1-6537b53edc29",
   "metadata": {},
   "outputs": [
    {
     "name": "stdout",
     "output_type": "stream",
     "text": [
      "<class 'pandas.core.frame.DataFrame'>\n",
      "RangeIndex: 2208 entries, 0 to 2207\n",
      "Data columns (total 7 columns):\n",
      " #   Column          Non-Null Count  Dtype \n",
      "---  ------          --------------  ----- \n",
      " 0   name            2208 non-null   object\n",
      " 1   main_category   2208 non-null   object\n",
      " 2   sub_category    2208 non-null   object\n",
      " 3   ratings         1262 non-null   object\n",
      " 4   no_of_ratings   1262 non-null   object\n",
      " 5   discount_price  2032 non-null   object\n",
      " 6   actual_price    2152 non-null   object\n",
      "dtypes: object(7)\n",
      "memory usage: 120.9+ KB\n",
      "None\n",
      "                                                name  main_category  \\\n",
      "0      EIO New Born Baby Gift Set -13 Piecess (Pink)  kids' fashion   \n",
      "1  exciting Lives - Vintage Motorbike Pocket Watc...  kids' fashion   \n",
      "2  Jewel string by Bk arts Evil Eye Baby Nazaria ...  kids' fashion   \n",
      "3                    Superminis Unisex-baby's Bootie  kids' fashion   \n",
      "4  My Newborn Baby Mittens Caps Gloves and Booty ...  kids' fashion   \n",
      "\n",
      "   sub_category ratings no_of_ratings discount_price actual_price  \n",
      "0  Baby Fashion     4.2         2,958           ₹649       ₹1,499  \n",
      "1  Baby Fashion     4.2           161           ₹485         ₹699  \n",
      "2  Baby Fashion     4.2           962           ₹249         ₹799  \n",
      "3  Baby Fashion     4.1         2,046           ₹350         ₹899  \n",
      "4  Baby Fashion     3.8         5,601           ₹299         ₹900  \n",
      "name                0\n",
      "main_category       0\n",
      "sub_category        0\n",
      "ratings           946\n",
      "no_of_ratings     946\n",
      "discount_price    176\n",
      "actual_price       56\n",
      "dtype: int64\n"
     ]
    }
   ],
   "source": [
    "# Data overview\n",
    "print(df.info())\n",
    "\n",
    "# Preview\n",
    "print(df.head())\n",
    "\n",
    "# Missing values\n",
    "print(df.isnull().sum())\n"
   ]
  },
  {
   "cell_type": "markdown",
   "id": "3becdcb7-5806-4e32-832e-101112bdd9f4",
   "metadata": {},
   "source": [
    "## 2. Clean Columns (Ratings, Prices)"
   ]
  },
  {
   "cell_type": "code",
   "execution_count": 9,
   "id": "f7323b20-7cc0-4d4b-947e-97a078cabd6c",
   "metadata": {},
   "outputs": [
    {
     "name": "stdout",
     "output_type": "stream",
     "text": [
      "['2,958' '161' '962' '2,046' '5,601' '264' '4,050' '2' nan '5,914' '768'\n",
      " '2,439' '13' '7,280' '940' '39' '5,883' '805' '83' '482']\n"
     ]
    }
   ],
   "source": [
    "# First, inspect some unique entries\n",
    "print(df['no_of_ratings'].unique()[:20])  # or use .sample(20)\n",
    "\n",
    "# Keep only rows where 'no_of_ratings' looks like a number\n",
    "df['no_of_ratings'] = df['no_of_ratings'].str.replace(',', '', regex=True)\n",
    "\n",
    "# Remove anything that's not digits using regex\n",
    "df['no_of_ratings'] = df['no_of_ratings'].str.extract(r'(\\d+)', expand=False)\n",
    "\n",
    "# Convert to float\n",
    "df['no_of_ratings'] = pd.to_numeric(df['no_of_ratings'], errors='coerce')\n"
   ]
  },
  {
   "cell_type": "code",
   "execution_count": 14,
   "id": "82962e84-bd84-4f49-947c-1feba086df59",
   "metadata": {},
   "outputs": [],
   "source": [
    "# Step 1: Convert to string (this avoids the .str error)\n",
    "df['no_of_ratings'] = df['no_of_ratings'].astype(str)\n",
    "\n",
    "# Step 2: Remove commas\n",
    "df['no_of_ratings'] = df['no_of_ratings'].str.replace(',', '', regex=True)\n",
    "\n",
    "# Step 3: Extract only digits from string (ignore things like 'FREE Delivery')\n",
    "df['no_of_ratings'] = df['no_of_ratings'].str.extract(r'(\\d+)', expand=False)\n",
    "\n",
    "# Step 4: Convert to float (non-numeric results will become NaN)\n",
    "df['no_of_ratings'] = pd.to_numeric(df['no_of_ratings'], errors='coerce')\n"
   ]
  },
  {
   "cell_type": "code",
   "execution_count": 16,
   "id": "e3fee105-cce2-4891-97bf-0a160e60aff9",
   "metadata": {},
   "outputs": [
    {
     "data": {
      "text/html": [
       "<div>\n",
       "<style scoped>\n",
       "    .dataframe tbody tr th:only-of-type {\n",
       "        vertical-align: middle;\n",
       "    }\n",
       "\n",
       "    .dataframe tbody tr th {\n",
       "        vertical-align: top;\n",
       "    }\n",
       "\n",
       "    .dataframe thead th {\n",
       "        text-align: right;\n",
       "    }\n",
       "</style>\n",
       "<table border=\"1\" class=\"dataframe\">\n",
       "  <thead>\n",
       "    <tr style=\"text-align: right;\">\n",
       "      <th></th>\n",
       "      <th>name</th>\n",
       "      <th>main_category</th>\n",
       "      <th>sub_category</th>\n",
       "      <th>ratings</th>\n",
       "      <th>no_of_ratings</th>\n",
       "      <th>discount_price</th>\n",
       "      <th>actual_price</th>\n",
       "    </tr>\n",
       "  </thead>\n",
       "  <tbody>\n",
       "    <tr>\n",
       "      <th>0</th>\n",
       "      <td>EIO New Born Baby Gift Set -13 Piecess (Pink)</td>\n",
       "      <td>kids' fashion</td>\n",
       "      <td>Baby Fashion</td>\n",
       "      <td>4.2</td>\n",
       "      <td>2958.0</td>\n",
       "      <td>649.0</td>\n",
       "      <td>1499.0</td>\n",
       "    </tr>\n",
       "    <tr>\n",
       "      <th>1</th>\n",
       "      <td>exciting Lives - Vintage Motorbike Pocket Watc...</td>\n",
       "      <td>kids' fashion</td>\n",
       "      <td>Baby Fashion</td>\n",
       "      <td>4.2</td>\n",
       "      <td>161.0</td>\n",
       "      <td>485.0</td>\n",
       "      <td>699.0</td>\n",
       "    </tr>\n",
       "    <tr>\n",
       "      <th>2</th>\n",
       "      <td>Jewel string by Bk arts Evil Eye Baby Nazaria ...</td>\n",
       "      <td>kids' fashion</td>\n",
       "      <td>Baby Fashion</td>\n",
       "      <td>4.2</td>\n",
       "      <td>962.0</td>\n",
       "      <td>249.0</td>\n",
       "      <td>799.0</td>\n",
       "    </tr>\n",
       "    <tr>\n",
       "      <th>3</th>\n",
       "      <td>Superminis Unisex-baby's Bootie</td>\n",
       "      <td>kids' fashion</td>\n",
       "      <td>Baby Fashion</td>\n",
       "      <td>4.1</td>\n",
       "      <td>2046.0</td>\n",
       "      <td>350.0</td>\n",
       "      <td>899.0</td>\n",
       "    </tr>\n",
       "    <tr>\n",
       "      <th>4</th>\n",
       "      <td>My Newborn Baby Mittens Caps Gloves and Booty ...</td>\n",
       "      <td>kids' fashion</td>\n",
       "      <td>Baby Fashion</td>\n",
       "      <td>3.8</td>\n",
       "      <td>5601.0</td>\n",
       "      <td>299.0</td>\n",
       "      <td>900.0</td>\n",
       "    </tr>\n",
       "  </tbody>\n",
       "</table>\n",
       "</div>"
      ],
      "text/plain": [
       "                                                name  main_category  \\\n",
       "0      EIO New Born Baby Gift Set -13 Piecess (Pink)  kids' fashion   \n",
       "1  exciting Lives - Vintage Motorbike Pocket Watc...  kids' fashion   \n",
       "2  Jewel string by Bk arts Evil Eye Baby Nazaria ...  kids' fashion   \n",
       "3                    Superminis Unisex-baby's Bootie  kids' fashion   \n",
       "4  My Newborn Baby Mittens Caps Gloves and Booty ...  kids' fashion   \n",
       "\n",
       "   sub_category  ratings  no_of_ratings  discount_price  actual_price  \n",
       "0  Baby Fashion      4.2         2958.0           649.0        1499.0  \n",
       "1  Baby Fashion      4.2          161.0           485.0         699.0  \n",
       "2  Baby Fashion      4.2          962.0           249.0         799.0  \n",
       "3  Baby Fashion      4.1         2046.0           350.0         899.0  \n",
       "4  Baby Fashion      3.8         5601.0           299.0         900.0  "
      ]
     },
     "execution_count": 16,
     "metadata": {},
     "output_type": "execute_result"
    }
   ],
   "source": [
    "df.head()"
   ]
  },
  {
   "cell_type": "markdown",
   "id": "f8e979c4-03be-4c8c-84aa-c662f64ead0c",
   "metadata": {},
   "source": [
    "##  3. Missing Data Handling"
   ]
  },
  {
   "cell_type": "code",
   "execution_count": 17,
   "id": "dcf5cd8c-4fba-4cf2-8659-3da8c962c477",
   "metadata": {},
   "outputs": [
    {
     "name": "stdout",
     "output_type": "stream",
     "text": [
      "name                0\n",
      "main_category       0\n",
      "sub_category        0\n",
      "ratings           952\n",
      "no_of_ratings     948\n",
      "discount_price    176\n",
      "actual_price       56\n",
      "dtype: int64\n"
     ]
    }
   ],
   "source": [
    "# Check again after cleaning\n",
    "print(df.isnull().sum())\n",
    "\n",
    "# Optionally fill or drop missing rows\n",
    "df = df.dropna(subset=['discount_price', 'actual_price'])  # keep only those with price info\n"
   ]
  },
  {
   "cell_type": "code",
   "execution_count": 18,
   "id": "e274af7c-d26e-410e-a8c8-9732da4bdb70",
   "metadata": {},
   "outputs": [
    {
     "name": "stdout",
     "output_type": "stream",
     "text": [
      "name                0\n",
      "main_category       0\n",
      "sub_category        0\n",
      "ratings           825\n",
      "no_of_ratings     821\n",
      "discount_price      0\n",
      "actual_price        0\n",
      "dtype: int64\n"
     ]
    }
   ],
   "source": [
    "print(df.isnull().sum())"
   ]
  },
  {
   "cell_type": "code",
   "execution_count": 21,
   "id": "50124fc3-014d-46b7-88f4-d18f7cedcbe8",
   "metadata": {},
   "outputs": [],
   "source": [
    "df_rated = df.dropna(subset=['ratings', 'no_of_ratings'])\n"
   ]
  },
  {
   "cell_type": "markdown",
   "id": "81018da2-8989-4aab-bc3a-8d455210ee5a",
   "metadata": {},
   "source": [
    "## Feature Engineering"
   ]
  },
  {
   "cell_type": "code",
   "execution_count": 23,
   "id": "e87f380f-13bc-4128-ae88-d439b9479df5",
   "metadata": {},
   "outputs": [],
   "source": [
    "df['discount_percent'] = ((df['actual_price'] - df['discount_price']) / df['actual_price']) * 100\n"
   ]
  },
  {
   "cell_type": "code",
   "execution_count": 24,
   "id": "6d679fd6-0315-45ea-aeb5-56faff2dd8c5",
   "metadata": {},
   "outputs": [
    {
     "data": {
      "text/html": [
       "<div>\n",
       "<style scoped>\n",
       "    .dataframe tbody tr th:only-of-type {\n",
       "        vertical-align: middle;\n",
       "    }\n",
       "\n",
       "    .dataframe tbody tr th {\n",
       "        vertical-align: top;\n",
       "    }\n",
       "\n",
       "    .dataframe thead th {\n",
       "        text-align: right;\n",
       "    }\n",
       "</style>\n",
       "<table border=\"1\" class=\"dataframe\">\n",
       "  <thead>\n",
       "    <tr style=\"text-align: right;\">\n",
       "      <th></th>\n",
       "      <th>name</th>\n",
       "      <th>main_category</th>\n",
       "      <th>sub_category</th>\n",
       "      <th>ratings</th>\n",
       "      <th>no_of_ratings</th>\n",
       "      <th>discount_price</th>\n",
       "      <th>actual_price</th>\n",
       "      <th>discount_percent</th>\n",
       "    </tr>\n",
       "  </thead>\n",
       "  <tbody>\n",
       "    <tr>\n",
       "      <th>0</th>\n",
       "      <td>EIO New Born Baby Gift Set -13 Piecess (Pink)</td>\n",
       "      <td>kids' fashion</td>\n",
       "      <td>Baby Fashion</td>\n",
       "      <td>4.2</td>\n",
       "      <td>2958.0</td>\n",
       "      <td>649.0</td>\n",
       "      <td>1499.0</td>\n",
       "      <td>56.704470</td>\n",
       "    </tr>\n",
       "    <tr>\n",
       "      <th>1</th>\n",
       "      <td>exciting Lives - Vintage Motorbike Pocket Watc...</td>\n",
       "      <td>kids' fashion</td>\n",
       "      <td>Baby Fashion</td>\n",
       "      <td>4.2</td>\n",
       "      <td>161.0</td>\n",
       "      <td>485.0</td>\n",
       "      <td>699.0</td>\n",
       "      <td>30.615165</td>\n",
       "    </tr>\n",
       "    <tr>\n",
       "      <th>2</th>\n",
       "      <td>Jewel string by Bk arts Evil Eye Baby Nazaria ...</td>\n",
       "      <td>kids' fashion</td>\n",
       "      <td>Baby Fashion</td>\n",
       "      <td>4.2</td>\n",
       "      <td>962.0</td>\n",
       "      <td>249.0</td>\n",
       "      <td>799.0</td>\n",
       "      <td>68.836045</td>\n",
       "    </tr>\n",
       "    <tr>\n",
       "      <th>3</th>\n",
       "      <td>Superminis Unisex-baby's Bootie</td>\n",
       "      <td>kids' fashion</td>\n",
       "      <td>Baby Fashion</td>\n",
       "      <td>4.1</td>\n",
       "      <td>2046.0</td>\n",
       "      <td>350.0</td>\n",
       "      <td>899.0</td>\n",
       "      <td>61.067853</td>\n",
       "    </tr>\n",
       "    <tr>\n",
       "      <th>4</th>\n",
       "      <td>My Newborn Baby Mittens Caps Gloves and Booty ...</td>\n",
       "      <td>kids' fashion</td>\n",
       "      <td>Baby Fashion</td>\n",
       "      <td>3.8</td>\n",
       "      <td>5601.0</td>\n",
       "      <td>299.0</td>\n",
       "      <td>900.0</td>\n",
       "      <td>66.777778</td>\n",
       "    </tr>\n",
       "  </tbody>\n",
       "</table>\n",
       "</div>"
      ],
      "text/plain": [
       "                                                name  main_category  \\\n",
       "0      EIO New Born Baby Gift Set -13 Piecess (Pink)  kids' fashion   \n",
       "1  exciting Lives - Vintage Motorbike Pocket Watc...  kids' fashion   \n",
       "2  Jewel string by Bk arts Evil Eye Baby Nazaria ...  kids' fashion   \n",
       "3                    Superminis Unisex-baby's Bootie  kids' fashion   \n",
       "4  My Newborn Baby Mittens Caps Gloves and Booty ...  kids' fashion   \n",
       "\n",
       "   sub_category  ratings  no_of_ratings  discount_price  actual_price  \\\n",
       "0  Baby Fashion      4.2         2958.0           649.0        1499.0   \n",
       "1  Baby Fashion      4.2          161.0           485.0         699.0   \n",
       "2  Baby Fashion      4.2          962.0           249.0         799.0   \n",
       "3  Baby Fashion      4.1         2046.0           350.0         899.0   \n",
       "4  Baby Fashion      3.8         5601.0           299.0         900.0   \n",
       "\n",
       "   discount_percent  \n",
       "0         56.704470  \n",
       "1         30.615165  \n",
       "2         68.836045  \n",
       "3         61.067853  \n",
       "4         66.777778  "
      ]
     },
     "execution_count": 24,
     "metadata": {},
     "output_type": "execute_result"
    }
   ],
   "source": [
    "df.head()"
   ]
  },
  {
   "cell_type": "code",
   "execution_count": 25,
   "id": "e342b148-4f05-4e8b-963c-27837ac6698b",
   "metadata": {},
   "outputs": [
    {
     "name": "stderr",
     "output_type": "stream",
     "text": [
      "C:\\Users\\RAMEEN SHAHID\\AppData\\Local\\Temp\\ipykernel_300\\17296607.py:1: SettingWithCopyWarning: \n",
      "A value is trying to be set on a copy of a slice from a DataFrame.\n",
      "Try using .loc[row_indexer,col_indexer] = value instead\n",
      "\n",
      "See the caveats in the documentation: https://pandas.pydata.org/pandas-docs/stable/user_guide/indexing.html#returning-a-view-versus-a-copy\n",
      "  df_rated['weighted_score'] = df_rated['ratings'] * df_rated['no_of_ratings']\n"
     ]
    }
   ],
   "source": [
    "df_rated['weighted_score'] = df_rated['ratings'] * df_rated['no_of_ratings']\n"
   ]
  },
  {
   "cell_type": "code",
   "execution_count": 26,
   "id": "b6bc71dc-c0ed-4c42-a651-ff0a23ddaf9d",
   "metadata": {},
   "outputs": [],
   "source": [
    "def price_bucket(price):\n",
    "    if price < 250:\n",
    "        return 'Low'\n",
    "    elif price < 500:\n",
    "        return 'Medium'\n",
    "    elif price < 1000:\n",
    "        return 'High'\n",
    "    else:\n",
    "        return 'Premium'\n",
    "\n",
    "df['price_range'] = df['discount_price'].apply(price_bucket)\n"
   ]
  },
  {
   "cell_type": "code",
   "execution_count": 27,
   "id": "5396f3af-22a7-4d63-aefa-06bbbf8472ff",
   "metadata": {},
   "outputs": [],
   "source": [
    "def rating_category(r):\n",
    "    if pd.isna(r):\n",
    "        return 'Unrated'\n",
    "    elif r >= 4.5:\n",
    "        return 'Excellent'\n",
    "    elif r >= 4.0:\n",
    "        return 'Good'\n",
    "    elif r >= 3.5:\n",
    "        return 'Average'\n",
    "    else:\n",
    "        return 'Poor'\n",
    "\n",
    "df['rating_category'] = df['ratings'].apply(rating_category)\n"
   ]
  },
  {
   "cell_type": "code",
   "execution_count": 28,
   "id": "c63401a4-9854-499e-9ca9-d3551b7739cc",
   "metadata": {},
   "outputs": [
    {
     "data": {
      "text/html": [
       "<div>\n",
       "<style scoped>\n",
       "    .dataframe tbody tr th:only-of-type {\n",
       "        vertical-align: middle;\n",
       "    }\n",
       "\n",
       "    .dataframe tbody tr th {\n",
       "        vertical-align: top;\n",
       "    }\n",
       "\n",
       "    .dataframe thead th {\n",
       "        text-align: right;\n",
       "    }\n",
       "</style>\n",
       "<table border=\"1\" class=\"dataframe\">\n",
       "  <thead>\n",
       "    <tr style=\"text-align: right;\">\n",
       "      <th></th>\n",
       "      <th>name</th>\n",
       "      <th>main_category</th>\n",
       "      <th>sub_category</th>\n",
       "      <th>ratings</th>\n",
       "      <th>no_of_ratings</th>\n",
       "      <th>discount_price</th>\n",
       "      <th>actual_price</th>\n",
       "      <th>discount_percent</th>\n",
       "      <th>price_range</th>\n",
       "      <th>rating_category</th>\n",
       "    </tr>\n",
       "  </thead>\n",
       "  <tbody>\n",
       "    <tr>\n",
       "      <th>0</th>\n",
       "      <td>EIO New Born Baby Gift Set -13 Piecess (Pink)</td>\n",
       "      <td>kids' fashion</td>\n",
       "      <td>Baby Fashion</td>\n",
       "      <td>4.2</td>\n",
       "      <td>2958.0</td>\n",
       "      <td>649.0</td>\n",
       "      <td>1499.0</td>\n",
       "      <td>56.704470</td>\n",
       "      <td>High</td>\n",
       "      <td>Good</td>\n",
       "    </tr>\n",
       "    <tr>\n",
       "      <th>1</th>\n",
       "      <td>exciting Lives - Vintage Motorbike Pocket Watc...</td>\n",
       "      <td>kids' fashion</td>\n",
       "      <td>Baby Fashion</td>\n",
       "      <td>4.2</td>\n",
       "      <td>161.0</td>\n",
       "      <td>485.0</td>\n",
       "      <td>699.0</td>\n",
       "      <td>30.615165</td>\n",
       "      <td>Medium</td>\n",
       "      <td>Good</td>\n",
       "    </tr>\n",
       "    <tr>\n",
       "      <th>2</th>\n",
       "      <td>Jewel string by Bk arts Evil Eye Baby Nazaria ...</td>\n",
       "      <td>kids' fashion</td>\n",
       "      <td>Baby Fashion</td>\n",
       "      <td>4.2</td>\n",
       "      <td>962.0</td>\n",
       "      <td>249.0</td>\n",
       "      <td>799.0</td>\n",
       "      <td>68.836045</td>\n",
       "      <td>Low</td>\n",
       "      <td>Good</td>\n",
       "    </tr>\n",
       "    <tr>\n",
       "      <th>3</th>\n",
       "      <td>Superminis Unisex-baby's Bootie</td>\n",
       "      <td>kids' fashion</td>\n",
       "      <td>Baby Fashion</td>\n",
       "      <td>4.1</td>\n",
       "      <td>2046.0</td>\n",
       "      <td>350.0</td>\n",
       "      <td>899.0</td>\n",
       "      <td>61.067853</td>\n",
       "      <td>Medium</td>\n",
       "      <td>Good</td>\n",
       "    </tr>\n",
       "    <tr>\n",
       "      <th>4</th>\n",
       "      <td>My Newborn Baby Mittens Caps Gloves and Booty ...</td>\n",
       "      <td>kids' fashion</td>\n",
       "      <td>Baby Fashion</td>\n",
       "      <td>3.8</td>\n",
       "      <td>5601.0</td>\n",
       "      <td>299.0</td>\n",
       "      <td>900.0</td>\n",
       "      <td>66.777778</td>\n",
       "      <td>Medium</td>\n",
       "      <td>Average</td>\n",
       "    </tr>\n",
       "  </tbody>\n",
       "</table>\n",
       "</div>"
      ],
      "text/plain": [
       "                                                name  main_category  \\\n",
       "0      EIO New Born Baby Gift Set -13 Piecess (Pink)  kids' fashion   \n",
       "1  exciting Lives - Vintage Motorbike Pocket Watc...  kids' fashion   \n",
       "2  Jewel string by Bk arts Evil Eye Baby Nazaria ...  kids' fashion   \n",
       "3                    Superminis Unisex-baby's Bootie  kids' fashion   \n",
       "4  My Newborn Baby Mittens Caps Gloves and Booty ...  kids' fashion   \n",
       "\n",
       "   sub_category  ratings  no_of_ratings  discount_price  actual_price  \\\n",
       "0  Baby Fashion      4.2         2958.0           649.0        1499.0   \n",
       "1  Baby Fashion      4.2          161.0           485.0         699.0   \n",
       "2  Baby Fashion      4.2          962.0           249.0         799.0   \n",
       "3  Baby Fashion      4.1         2046.0           350.0         899.0   \n",
       "4  Baby Fashion      3.8         5601.0           299.0         900.0   \n",
       "\n",
       "   discount_percent price_range rating_category  \n",
       "0         56.704470        High            Good  \n",
       "1         30.615165      Medium            Good  \n",
       "2         68.836045         Low            Good  \n",
       "3         61.067853      Medium            Good  \n",
       "4         66.777778      Medium         Average  "
      ]
     },
     "execution_count": 28,
     "metadata": {},
     "output_type": "execute_result"
    }
   ],
   "source": [
    "df.head()"
   ]
  },
  {
   "cell_type": "code",
   "execution_count": 29,
   "id": "b8604ac2-820f-4ce6-a1e4-c32db33f56cb",
   "metadata": {},
   "outputs": [],
   "source": [
    "# Define thresholds (e.g., 1.5 times the IQR for discount prices)\n",
    "Q1 = df['discount_price'].quantile(0.25)\n",
    "Q3 = df['discount_price'].quantile(0.75)\n",
    "IQR = Q3 - Q1\n",
    "\n",
    "df['is_discount_outlier'] = (df['discount_price'] < (Q1 - 1.5 * IQR)) | (df['discount_price'] > (Q3 + 1.5 * IQR))\n",
    "\n",
    "# For ratings, you can use similar logic\n",
    "Q1_ratings = df['ratings'].quantile(0.25)\n",
    "Q3_ratings = df['ratings'].quantile(0.75)\n",
    "IQR_ratings = Q3_ratings - Q1_ratings\n",
    "\n",
    "df['is_rating_outlier'] = (df['ratings'] < (Q1_ratings - 1.5 * IQR_ratings)) | (df['ratings'] > (Q3_ratings + 1.5 * IQR_ratings))\n"
   ]
  },
  {
   "cell_type": "code",
   "execution_count": 31,
   "id": "4a831f18-08f4-4979-b74b-4b0d44c8dd23",
   "metadata": {},
   "outputs": [],
   "source": [
    "df['std_ratings'] = df['ratings'].std()\n"
   ]
  },
  {
   "cell_type": "markdown",
   "id": "ede63018-6405-45ef-9d01-3caa5471bb1d",
   "metadata": {},
   "source": [
    "## Business Analysis Features to Add"
   ]
  },
  {
   "cell_type": "code",
   "execution_count": 32,
   "id": "e6dbbf51-a691-489b-ad10-dc0a927604c2",
   "metadata": {},
   "outputs": [],
   "source": [
    "df['estimated_sales_volume'] = df['no_of_ratings'] * df['ratings']  # Assuming ratings influence sales\n"
   ]
  },
  {
   "cell_type": "code",
   "execution_count": 33,
   "id": "b6086f6d-4eae-49c9-91a6-a617756cd878",
   "metadata": {},
   "outputs": [],
   "source": [
    "df['revenue_from_discounts'] = df['discount_price'] * df['no_of_ratings'].astype(float)\n"
   ]
  },
  {
   "cell_type": "code",
   "execution_count": 35,
   "id": "eba1039f-a57c-4183-bd9c-5f69da577fdb",
   "metadata": {},
   "outputs": [],
   "source": [
    "df['customer_engagement'] = df['no_of_ratings'].astype(float) * df['ratings']\n"
   ]
  },
  {
   "cell_type": "code",
   "execution_count": 36,
   "id": "588eb19c-96ff-45a4-8149-d135704b507e",
   "metadata": {},
   "outputs": [],
   "source": [
    "df['is_discounted'] = df['discount_price'] < df['actual_price']\n",
    "discounted_count = df['is_discounted'].sum()\n",
    "total_count = len(df)\n",
    "df['discount_impact'] = discounted_count / total_count * 100  # Percentage of products discounted\n"
   ]
  },
  {
   "cell_type": "code",
   "execution_count": 37,
   "id": "0cdc0d6c-6997-4290-b58f-c2b0c38223f1",
   "metadata": {},
   "outputs": [
    {
     "data": {
      "text/html": [
       "<div>\n",
       "<style scoped>\n",
       "    .dataframe tbody tr th:only-of-type {\n",
       "        vertical-align: middle;\n",
       "    }\n",
       "\n",
       "    .dataframe tbody tr th {\n",
       "        vertical-align: top;\n",
       "    }\n",
       "\n",
       "    .dataframe thead th {\n",
       "        text-align: right;\n",
       "    }\n",
       "</style>\n",
       "<table border=\"1\" class=\"dataframe\">\n",
       "  <thead>\n",
       "    <tr style=\"text-align: right;\">\n",
       "      <th></th>\n",
       "      <th>name</th>\n",
       "      <th>main_category</th>\n",
       "      <th>sub_category</th>\n",
       "      <th>ratings</th>\n",
       "      <th>no_of_ratings</th>\n",
       "      <th>discount_price</th>\n",
       "      <th>actual_price</th>\n",
       "      <th>discount_percent</th>\n",
       "      <th>price_range</th>\n",
       "      <th>rating_category</th>\n",
       "      <th>is_discount_outlier</th>\n",
       "      <th>is_rating_outlier</th>\n",
       "      <th>std_ratings</th>\n",
       "      <th>estimated_sales_volume</th>\n",
       "      <th>revenue_from_discounts</th>\n",
       "      <th>customer_engagement</th>\n",
       "      <th>is_discounted</th>\n",
       "      <th>discount_impact</th>\n",
       "    </tr>\n",
       "  </thead>\n",
       "  <tbody>\n",
       "    <tr>\n",
       "      <th>0</th>\n",
       "      <td>EIO New Born Baby Gift Set -13 Piecess (Pink)</td>\n",
       "      <td>kids' fashion</td>\n",
       "      <td>Baby Fashion</td>\n",
       "      <td>4.2</td>\n",
       "      <td>2958.0</td>\n",
       "      <td>649.0</td>\n",
       "      <td>1499.0</td>\n",
       "      <td>56.704470</td>\n",
       "      <td>High</td>\n",
       "      <td>Good</td>\n",
       "      <td>False</td>\n",
       "      <td>False</td>\n",
       "      <td>0.800178</td>\n",
       "      <td>12423.6</td>\n",
       "      <td>1919742.0</td>\n",
       "      <td>12423.6</td>\n",
       "      <td>True</td>\n",
       "      <td>100.0</td>\n",
       "    </tr>\n",
       "    <tr>\n",
       "      <th>1</th>\n",
       "      <td>exciting Lives - Vintage Motorbike Pocket Watc...</td>\n",
       "      <td>kids' fashion</td>\n",
       "      <td>Baby Fashion</td>\n",
       "      <td>4.2</td>\n",
       "      <td>161.0</td>\n",
       "      <td>485.0</td>\n",
       "      <td>699.0</td>\n",
       "      <td>30.615165</td>\n",
       "      <td>Medium</td>\n",
       "      <td>Good</td>\n",
       "      <td>False</td>\n",
       "      <td>False</td>\n",
       "      <td>0.800178</td>\n",
       "      <td>676.2</td>\n",
       "      <td>78085.0</td>\n",
       "      <td>676.2</td>\n",
       "      <td>True</td>\n",
       "      <td>100.0</td>\n",
       "    </tr>\n",
       "    <tr>\n",
       "      <th>2</th>\n",
       "      <td>Jewel string by Bk arts Evil Eye Baby Nazaria ...</td>\n",
       "      <td>kids' fashion</td>\n",
       "      <td>Baby Fashion</td>\n",
       "      <td>4.2</td>\n",
       "      <td>962.0</td>\n",
       "      <td>249.0</td>\n",
       "      <td>799.0</td>\n",
       "      <td>68.836045</td>\n",
       "      <td>Low</td>\n",
       "      <td>Good</td>\n",
       "      <td>False</td>\n",
       "      <td>False</td>\n",
       "      <td>0.800178</td>\n",
       "      <td>4040.4</td>\n",
       "      <td>239538.0</td>\n",
       "      <td>4040.4</td>\n",
       "      <td>True</td>\n",
       "      <td>100.0</td>\n",
       "    </tr>\n",
       "    <tr>\n",
       "      <th>3</th>\n",
       "      <td>Superminis Unisex-baby's Bootie</td>\n",
       "      <td>kids' fashion</td>\n",
       "      <td>Baby Fashion</td>\n",
       "      <td>4.1</td>\n",
       "      <td>2046.0</td>\n",
       "      <td>350.0</td>\n",
       "      <td>899.0</td>\n",
       "      <td>61.067853</td>\n",
       "      <td>Medium</td>\n",
       "      <td>Good</td>\n",
       "      <td>False</td>\n",
       "      <td>False</td>\n",
       "      <td>0.800178</td>\n",
       "      <td>8388.6</td>\n",
       "      <td>716100.0</td>\n",
       "      <td>8388.6</td>\n",
       "      <td>True</td>\n",
       "      <td>100.0</td>\n",
       "    </tr>\n",
       "    <tr>\n",
       "      <th>4</th>\n",
       "      <td>My Newborn Baby Mittens Caps Gloves and Booty ...</td>\n",
       "      <td>kids' fashion</td>\n",
       "      <td>Baby Fashion</td>\n",
       "      <td>3.8</td>\n",
       "      <td>5601.0</td>\n",
       "      <td>299.0</td>\n",
       "      <td>900.0</td>\n",
       "      <td>66.777778</td>\n",
       "      <td>Medium</td>\n",
       "      <td>Average</td>\n",
       "      <td>False</td>\n",
       "      <td>False</td>\n",
       "      <td>0.800178</td>\n",
       "      <td>21283.8</td>\n",
       "      <td>1674699.0</td>\n",
       "      <td>21283.8</td>\n",
       "      <td>True</td>\n",
       "      <td>100.0</td>\n",
       "    </tr>\n",
       "  </tbody>\n",
       "</table>\n",
       "</div>"
      ],
      "text/plain": [
       "                                                name  main_category  \\\n",
       "0      EIO New Born Baby Gift Set -13 Piecess (Pink)  kids' fashion   \n",
       "1  exciting Lives - Vintage Motorbike Pocket Watc...  kids' fashion   \n",
       "2  Jewel string by Bk arts Evil Eye Baby Nazaria ...  kids' fashion   \n",
       "3                    Superminis Unisex-baby's Bootie  kids' fashion   \n",
       "4  My Newborn Baby Mittens Caps Gloves and Booty ...  kids' fashion   \n",
       "\n",
       "   sub_category  ratings  no_of_ratings  discount_price  actual_price  \\\n",
       "0  Baby Fashion      4.2         2958.0           649.0        1499.0   \n",
       "1  Baby Fashion      4.2          161.0           485.0         699.0   \n",
       "2  Baby Fashion      4.2          962.0           249.0         799.0   \n",
       "3  Baby Fashion      4.1         2046.0           350.0         899.0   \n",
       "4  Baby Fashion      3.8         5601.0           299.0         900.0   \n",
       "\n",
       "   discount_percent price_range rating_category  is_discount_outlier  \\\n",
       "0         56.704470        High            Good                False   \n",
       "1         30.615165      Medium            Good                False   \n",
       "2         68.836045         Low            Good                False   \n",
       "3         61.067853      Medium            Good                False   \n",
       "4         66.777778      Medium         Average                False   \n",
       "\n",
       "   is_rating_outlier  std_ratings  estimated_sales_volume  \\\n",
       "0              False     0.800178                 12423.6   \n",
       "1              False     0.800178                   676.2   \n",
       "2              False     0.800178                  4040.4   \n",
       "3              False     0.800178                  8388.6   \n",
       "4              False     0.800178                 21283.8   \n",
       "\n",
       "   revenue_from_discounts  customer_engagement  is_discounted  discount_impact  \n",
       "0               1919742.0              12423.6           True            100.0  \n",
       "1                 78085.0                676.2           True            100.0  \n",
       "2                239538.0               4040.4           True            100.0  \n",
       "3                716100.0               8388.6           True            100.0  \n",
       "4               1674699.0              21283.8           True            100.0  "
      ]
     },
     "execution_count": 37,
     "metadata": {},
     "output_type": "execute_result"
    }
   ],
   "source": [
    "df.head()"
   ]
  },
  {
   "cell_type": "code",
   "execution_count": 39,
   "id": "79007cb1-f3c3-47ad-9e1d-804b2694c4a2",
   "metadata": {},
   "outputs": [
    {
     "name": "stdout",
     "output_type": "stream",
     "text": [
      "<class 'pandas.core.frame.DataFrame'>\n",
      "Index: 2032 entries, 0 to 2207\n",
      "Data columns (total 18 columns):\n",
      " #   Column                  Non-Null Count  Dtype  \n",
      "---  ------                  --------------  -----  \n",
      " 0   name                    2032 non-null   object \n",
      " 1   main_category           2032 non-null   object \n",
      " 2   sub_category            2032 non-null   object \n",
      " 3   ratings                 1207 non-null   float64\n",
      " 4   no_of_ratings           1211 non-null   float64\n",
      " 5   discount_price          2032 non-null   float64\n",
      " 6   actual_price            2032 non-null   float64\n",
      " 7   discount_percent        2032 non-null   float64\n",
      " 8   price_range             2032 non-null   object \n",
      " 9   rating_category         2032 non-null   object \n",
      " 10  is_discount_outlier     2032 non-null   bool   \n",
      " 11  is_rating_outlier       2032 non-null   bool   \n",
      " 12  std_ratings             2032 non-null   float64\n",
      " 13  estimated_sales_volume  1207 non-null   float64\n",
      " 14  revenue_from_discounts  1211 non-null   float64\n",
      " 15  customer_engagement     1207 non-null   float64\n",
      " 16  is_discounted           2032 non-null   bool   \n",
      " 17  discount_impact         2032 non-null   float64\n",
      "dtypes: bool(3), float64(10), object(5)\n",
      "memory usage: 260.0+ KB\n"
     ]
    }
   ],
   "source": [
    "df.info()"
   ]
  },
  {
   "cell_type": "markdown",
   "id": "cf6886cf-c0b1-4e34-bb46-d96058787c58",
   "metadata": {},
   "source": [
    "## Visualizations"
   ]
  },
  {
   "cell_type": "code",
   "execution_count": 40,
   "id": "f87e0547-02e2-40bb-a6a2-2e0d97a49adb",
   "metadata": {},
   "outputs": [
    {
     "data": {
      "image/png": "[encoded data removed]",
      "text/plain": [
       "<Figure size 1000x600 with 1 Axes>"
      ]
     },
     "metadata": {},
     "output_type": "display_data"
    }
   ],
   "source": [
    "import matplotlib.pyplot as plt\n",
    "import seaborn as sns\n",
    "\n",
    "plt.figure(figsize=(10, 6))\n",
    "sns.histplot(df['discount_percent'], bins=30, kde=True, color='blue')\n",
    "plt.title('Distribution of Discount Percentages')\n",
    "plt.xlabel('Discount Percentage')\n",
    "plt.ylabel('Frequency')\n",
    "plt.axvline(df['discount_percent'].mean(), color='red', linestyle='dashed', linewidth=1, label='Mean Discount %')\n",
    "plt.legend()\n",
    "plt.grid()\n",
    "plt.show()\n"
   ]
  },
  {
   "cell_type": "code",
   "execution_count": null,
   "id": "e26d8b1e-2f68-47d3-aa13-99e0ea36a4eb",
   "metadata": {},
   "outputs": [],
   "source": []
  },
  {
   "cell_type": "code",
   "execution_count": 42,
   "id": "c78cc8e2-40c1-439a-b4a1-c01428de66b5",
   "metadata": {},
   "outputs": [
    {
     "name": "stderr",
     "output_type": "stream",
     "text": [
      "C:\\Users\\RAMEEN SHAHID\\AppData\\Local\\Temp\\ipykernel_300\\2932512526.py:11: FutureWarning: \n",
      "\n",
      "Passing `palette` without assigning `hue` is deprecated and will be removed in v0.14.0. Assign the `x` variable to `hue` and set `legend=False` for the same effect.\n",
      "\n",
      "  sns.barplot(x=avg_ratings_subcategory.index, y=avg_ratings_subcategory.values, palette='viridis')\n"
     ]
    },
    {
     "data": {
      "image/png": "[encoded data removed]",
      "text/plain": [
       "<Figure size 1200x600 with 1 Axes>"
      ]
     },
     "metadata": {},
     "output_type": "display_data"
    }
   ],
   "source": [
    "import matplotlib.pyplot as plt\n",
    "import seaborn as sns\n",
    "\n",
    "# Grouping and calculating average ratings\n",
    "avg_ratings_subcategory = df.groupby('sub_category')['ratings'].mean().dropna().sort_values()\n",
    "\n",
    "# Setting the size of the plot\n",
    "plt.figure(figsize=(12, 6))\n",
    "\n",
    "# Creating the bar plot\n",
    "sns.barplot(x=avg_ratings_subcategory.index, y=avg_ratings_subcategory.values, palette='viridis')\n",
    "\n",
    "# Adding titles and labels\n",
    "plt.title('Average Ratings by Sub-Category', fontsize=16)\n",
    "plt.xlabel('Sub-Category', fontsize=14)\n",
    "plt.ylabel('Average Ratings', fontsize=14)\n",
    "\n",
    "# Rotating the x-axis labels for better readability\n",
    "plt.xticks(rotation=45, ha='right', fontsize=12)\n",
    "\n",
    "# Adding a grid for better readability\n",
    "plt.grid(axis='y', linestyle='--', alpha=0.7)\n",
    "\n",
    "# Displaying the plot\n",
    "plt.tight_layout()\n",
    "plt.show()\n"
   ]
  },
  {
   "cell_type": "code",
   "execution_count": 43,
   "id": "23994fe6-5f2f-44e3-9134-7086ca3ec86d",
   "metadata": {},
   "outputs": [],
   "source": [
    "# Save the cleaned DataFrame to a new CSV file\n",
    "df.to_csv('cleaned_baby_fashion_dataset.csv', index=False)\n"
   ]
  },
  {
   "cell_type": "code",
   "execution_count": null,
   "id": "88a9a21c-5e4d-4140-b657-428bc961ab48",
   "metadata": {},
   "outputs": [],
   "source": []
  }
 ],
 "metadata": {
  "kernelspec": {
   "display_name": "Python 3 (ipykernel)",
   "language": "python",
   "name": "python3"
  },
  "language_info": {
   "codemirror_mode": {
    "name": "ipython",
    "version": 3
   },
   "file_extension": ".py",
   "mimetype": "text/x-python",
   "name": "python",
   "nbconvert_exporter": "python",
   "pygments_lexer": "ipython3",
   "version": "3.9.21"
  }
 },
 "nbformat": 4,
 "nbformat_minor": 5
}
