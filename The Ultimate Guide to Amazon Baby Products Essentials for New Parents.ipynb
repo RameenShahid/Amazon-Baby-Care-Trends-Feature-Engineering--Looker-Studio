{
 "cells": [
  {
   "cell_type": "markdown",
   "id": "7f841904-60ec-41d1-a9ea-4f5acfccecfa",
   "metadata": {},
   "source": [
    "# The Ultimate Guide to Amazon Baby Products: Essentials for New Parents\n",
    "## Baby Bliss: Premium Products for Happy, Healthy Infants"
   ]
  },
  {
   "cell_type": "code",
   "execution_count": 2,
   "id": "f09f6f61-543d-42ea-87ea-f57d22946344",
   "metadata": {},
   "outputs": [],
   "source": [
    "import pandas as pd\n",
    "import numpy as np\n",
    "\n",
    "# Load the data from the CSV file\n",
    "df = pd.read_csv(\"Baby Products.csv\")\n"
   ]
  },
  {
   "cell_type": "code",
   "execution_count": 4,
   "id": "20f3923b-95b4-4734-a815-272123054988",
   "metadata": {},
   "outputs": [
    {
     "name": "stdout",
     "output_type": "stream",
     "text": [
      "                                                name         main_category  \\\n",
      "0  Supples Baby Pants Diapers, Medium (7-12 kg), ...  toys & baby products   \n",
      "1  Pampers Active Baby Taped Diapers, Medium size...  toys & baby products   \n",
      "2  Mamaearth Hydragel Indian Sunscreen Spf 50, Wi...  toys & baby products   \n",
      "3  Mamaearth Gentle Cleansing Shampoo for Babies ...  toys & baby products   \n",
      "4      Himalaya Extra Moisturizing Baby Wash, 400 ml  toys & baby products   \n",
      "\n",
      "    sub_category                                              image  \\\n",
      "0  Baby Products  https://m.media-amazon.com/images/W/IMAGERENDE...   \n",
      "1  Baby Products  https://m.media-amazon.com/images/W/IMAGERENDE...   \n",
      "2  Baby Products  https://m.media-amazon.com/images/W/IMAGERENDE...   \n",
      "3  Baby Products  https://m.media-amazon.com/images/W/IMAGERENDE...   \n",
      "4  Baby Products  https://m.media-amazon.com/images/W/IMAGERENDE...   \n",
      "\n",
      "                                                link ratings no_of_ratings  \\\n",
      "0  https://www.amazon.in/Supples-Pants-Diapers-Me...     4.0       127,863   \n",
      "1  https://www.amazon.in/Pampers-Active-Medium-Di...     4.5        65,629   \n",
      "2  https://www.amazon.in/Mamaearth-HydraGel-Sunsc...     4.0         4,897   \n",
      "3  https://www.amazon.in/Mamaearth-Gentle-Cleansi...     4.3        19,845   \n",
      "4  https://www.amazon.in/Himalaya-Extra-Moisturiz...     4.3         6,456   \n",
      "\n",
      "  discount_price actual_price  \n",
      "0           ₹639         ₹949  \n",
      "1         ₹1,529       ₹1,699  \n",
      "2           ₹346         ₹399  \n",
      "3           ₹152         ₹199  \n",
      "4           ₹198         ₹275  \n"
     ]
    }
   ],
   "source": [
    "# Display the first few rows of the DataFrame\n",
    "print(df.head())"
   ]
  },
  {
   "cell_type": "code",
   "execution_count": 5,
   "id": "1b8f7cc2-253e-402b-b814-987bdfbedb7a",
   "metadata": {},
   "outputs": [
    {
     "name": "stdout",
     "output_type": "stream",
     "text": [
      "<class 'pandas.core.frame.DataFrame'>\n",
      "RangeIndex: 1056 entries, 0 to 1055\n",
      "Data columns (total 9 columns):\n",
      " #   Column          Non-Null Count  Dtype \n",
      "---  ------          --------------  ----- \n",
      " 0   name            1056 non-null   object\n",
      " 1   main_category   1056 non-null   object\n",
      " 2   sub_category    1056 non-null   object\n",
      " 3   image           1056 non-null   object\n",
      " 4   link            1056 non-null   object\n",
      " 5   ratings         1044 non-null   object\n",
      " 6   no_of_ratings   1044 non-null   object\n",
      " 7   discount_price  964 non-null    object\n",
      " 8   actual_price    1049 non-null   object\n",
      "dtypes: object(9)\n",
      "memory usage: 74.4+ KB\n",
      "None\n"
     ]
    }
   ],
   "source": [
    "print(df.info())"
   ]
  },
  {
   "cell_type": "code",
   "execution_count": 6,
   "id": "46d3b3e3-d168-4423-ac65-dfbeef486b61",
   "metadata": {},
   "outputs": [
    {
     "name": "stdout",
     "output_type": "stream",
     "text": [
      "Missing values in each column:\n",
      "name               0\n",
      "main_category      0\n",
      "sub_category       0\n",
      "image              0\n",
      "link               0\n",
      "ratings           12\n",
      "no_of_ratings     12\n",
      "discount_price    92\n",
      "actual_price       7\n",
      "dtype: int64\n"
     ]
    }
   ],
   "source": [
    "# Check for missing values\n",
    "missing_values = df.isnull().sum()\n",
    "print(\"Missing values in each column:\")\n",
    "print(missing_values)\n"
   ]
  },
  {
   "cell_type": "code",
   "execution_count": 7,
   "id": "d97c6aaf-c0e6-4253-9642-c8641f97382d",
   "metadata": {},
   "outputs": [
    {
     "name": "stderr",
     "output_type": "stream",
     "text": [
      "C:\\Users\\RAMEEN SHAHID\\AppData\\Local\\Temp\\ipykernel_13072\\323745504.py:11: FutureWarning: A value is trying to be set on a copy of a DataFrame or Series through chained assignment using an inplace method.\n",
      "The behavior will change in pandas 3.0. This inplace method will never work because the intermediate object on which we are setting values always behaves as a copy.\n",
      "\n",
      "For example, when doing 'df[col].method(value, inplace=True)', try using 'df.method({col: value}, inplace=True)' or df[col] = df[col].method(value) instead, to perform the operation inplace on the original object.\n",
      "\n",
      "\n",
      "  df[column].fillna(df[column].mode()[0], inplace=True)\n"
     ]
    }
   ],
   "source": [
    "# Option 1: Drop rows with any missing values\n",
    "# df.dropna(inplace=True)\n",
    "\n",
    "# Option 2: Fill missing values\n",
    "# Fill numerical columns with the mean\n",
    "for column in df.select_dtypes(include=['float64', 'int64']).columns:\n",
    "    df[column].fillna(df[column].mean(), inplace=True)\n",
    "\n",
    "# Fill categorical columns with the mode\n",
    "for column in df.select_dtypes(include=['object']).columns:\n",
    "    df[column].fillna(df[column].mode()[0], inplace=True)\n"
   ]
  },
  {
   "cell_type": "code",
   "execution_count": 8,
   "id": "1c49123a-6956-473c-b1df-dcba9bb3d991",
   "metadata": {},
   "outputs": [
    {
     "name": "stdout",
     "output_type": "stream",
     "text": [
      "Number of duplicate rows: 0\n"
     ]
    }
   ],
   "source": [
    "# Remove duplicate rows\n",
    "duplicates = df.duplicated().sum()\n",
    "print(f\"Number of duplicate rows: {duplicates}\")\n",
    "\n",
    "df.drop_duplicates(inplace=True)\n"
   ]
  },
  {
   "cell_type": "code",
   "execution_count": 9,
   "id": "8deac4ae-b766-4f41-a8fe-992817b97660",
   "metadata": {},
   "outputs": [
    {
     "name": "stdout",
     "output_type": "stream",
     "text": [
      "<class 'pandas.core.frame.DataFrame'>\n",
      "RangeIndex: 1056 entries, 0 to 1055\n",
      "Data columns (total 9 columns):\n",
      " #   Column          Non-Null Count  Dtype \n",
      "---  ------          --------------  ----- \n",
      " 0   name            1056 non-null   object\n",
      " 1   main_category   1056 non-null   object\n",
      " 2   sub_category    1056 non-null   object\n",
      " 3   image           1056 non-null   object\n",
      " 4   link            1056 non-null   object\n",
      " 5   ratings         1056 non-null   object\n",
      " 6   no_of_ratings   1056 non-null   object\n",
      " 7   discount_price  1056 non-null   object\n",
      " 8   actual_price    1056 non-null   object\n",
      "dtypes: object(9)\n",
      "memory usage: 74.4+ KB\n"
     ]
    }
   ],
   "source": [
    "df.info()"
   ]
  },
  {
   "cell_type": "code",
   "execution_count": 10,
   "id": "31c3c91d-27f1-4b8f-ba2c-1f76d877ee63",
   "metadata": {},
   "outputs": [],
   "source": [
    "# Step 1: Convert ratings and price columns to numeric types\n",
    "df['ratings'] = pd.to_numeric(df['ratings'], errors='coerce')\n",
    "df['no_of_ratings'] = pd.to_numeric(df['no_of_ratings'].str.replace(',', '').str.strip(), errors='coerce')\n",
    "df['discount_price'] = pd.to_numeric(df['discount_price'].str.replace('₹', '').str.replace(',', '').str.strip(), errors='coerce')\n",
    "df['actual_price'] = pd.to_numeric(df['actual_price'].str.replace('₹', '').str.replace(',', '').str.strip(), errors='coerce')\n"
   ]
  },
  {
   "cell_type": "markdown",
   "id": "88557efc-c661-4eef-a633-aa300a436568",
   "metadata": {},
   "source": [
    "## Feature engineering"
   ]
  },
  {
   "cell_type": "code",
   "execution_count": 11,
   "id": "9375bb80-0649-4d7f-bf50-33fac2461e2a",
   "metadata": {},
   "outputs": [],
   "source": [
    "# Calculate Discount Percentage\n",
    "df['discount_percentage'] = ((df['actual_price'] - df['discount_price']) / df['actual_price']) * 100\n",
    "\n",
    "# Calculate Price Difference\n",
    "df['price_difference'] = df['actual_price'] - df['discount_price']"
   ]
  },
  {
   "cell_type": "code",
   "execution_count": 12,
   "id": "3830727e-66f3-42d8-a9ad-b42fa727319a",
   "metadata": {},
   "outputs": [],
   "source": [
    "# 1. Summary Statistics\n",
    "df['mean_rating'] = df['ratings'].mean()\n",
    "df['median_rating'] = df['ratings'].median()\n",
    "df['std_rating'] = df['ratings'].std()\n",
    "df['variance_rating'] = df['ratings'].var()"
   ]
  },
  {
   "cell_type": "code",
   "execution_count": 13,
   "id": "440dbd84-704c-4ca4-a87b-5b979bc17426",
   "metadata": {},
   "outputs": [],
   "source": [
    "# 2. Aggregate Features\n",
    "average_rating_by_category = df.groupby('main_category')['ratings'].mean().reset_index()\n",
    "average_rating_by_category.columns = ['main_category', 'average_category_rating']\n",
    "df = pd.merge(df, average_rating_by_category, on='main_category', how='left')"
   ]
  },
  {
   "cell_type": "code",
   "execution_count": 14,
   "id": "be799314-45dc-408a-bbca-012bdc8ef58d",
   "metadata": {},
   "outputs": [],
   "source": [
    "# 5. Ratios\n",
    "df['discount_ratio'] = df['discount_price'] / df['actual_price']"
   ]
  },
  {
   "cell_type": "markdown",
   "id": "be878b10-4b38-4ed9-841f-0beefccf2daa",
   "metadata": {},
   "source": [
    "## Business Analysis Features"
   ]
  },
  {
   "cell_type": "code",
   "execution_count": 15,
   "id": "59d1dd6b-9ece-4187-a8ca-d5e67fe1b5c8",
   "metadata": {},
   "outputs": [],
   "source": [
    "# 1. Profit Margin\n",
    "df['profit_margin'] = (df['actual_price'] - df['discount_price']) / df['actual_price'] * 100"
   ]
  },
  {
   "cell_type": "code",
   "execution_count": 16,
   "id": "e9ced5f6-26da-4d69-99ff-f1605770e5c4",
   "metadata": {},
   "outputs": [],
   "source": [
    "# 2. Sales Potential\n",
    "df['sales_potential'] = df['ratings'] * df['no_of_ratings']\n",
    "\n",
    "# 3. Price Sensitivity\n",
    "df['price_sensitivity'] = ((df['actual_price'] - df['discount_price']) / df['actual_price']) * 100\n",
    "\n",
    "# 4. Popularity Index\n",
    "df['popularity_index'] = df['ratings'] * df['no_of_ratings']\n",
    "\n",
    "# 5. Category Penetration Rate\n",
    "category_count = df.groupby('main_category')['no_of_ratings'].sum().reset_index()\n",
    "category_count.columns = ['main_category', 'category_total_ratings']\n",
    "df = pd.merge(df, category_count, on='main_category', how='left')\n",
    "df['category_penetration_rate'] = df['no_of_ratings'] / df['category_total_ratings']\n",
    "\n",
    "# 6. Discount Amount\n",
    "df['discount_amount'] = df['actual_price'] - df['discount_price']\n"
   ]
  },
  {
   "cell_type": "code",
   "execution_count": 17,
   "id": "73c388f4-b487-4ad6-b096-738a6552ebc3",
   "metadata": {},
   "outputs": [
    {
     "data": {
      "text/html": [
       "<div>\n",
       "<style scoped>\n",
       "    .dataframe tbody tr th:only-of-type {\n",
       "        vertical-align: middle;\n",
       "    }\n",
       "\n",
       "    .dataframe tbody tr th {\n",
       "        vertical-align: top;\n",
       "    }\n",
       "\n",
       "    .dataframe thead th {\n",
       "        text-align: right;\n",
       "    }\n",
       "</style>\n",
       "<table border=\"1\" class=\"dataframe\">\n",
       "  <thead>\n",
       "    <tr style=\"text-align: right;\">\n",
       "      <th></th>\n",
       "      <th>name</th>\n",
       "      <th>main_category</th>\n",
       "      <th>sub_category</th>\n",
       "      <th>image</th>\n",
       "      <th>link</th>\n",
       "      <th>ratings</th>\n",
       "      <th>no_of_ratings</th>\n",
       "      <th>discount_price</th>\n",
       "      <th>actual_price</th>\n",
       "      <th>discount_percentage</th>\n",
       "      <th>...</th>\n",
       "      <th>variance_rating</th>\n",
       "      <th>average_category_rating</th>\n",
       "      <th>discount_ratio</th>\n",
       "      <th>profit_margin</th>\n",
       "      <th>sales_potential</th>\n",
       "      <th>price_sensitivity</th>\n",
       "      <th>popularity_index</th>\n",
       "      <th>category_total_ratings</th>\n",
       "      <th>category_penetration_rate</th>\n",
       "      <th>discount_amount</th>\n",
       "    </tr>\n",
       "  </thead>\n",
       "  <tbody>\n",
       "    <tr>\n",
       "      <th>0</th>\n",
       "      <td>Supples Baby Pants Diapers, Medium (7-12 kg), ...</td>\n",
       "      <td>toys &amp; baby products</td>\n",
       "      <td>Baby Products</td>\n",
       "      <td>https://m.media-amazon.com/images/W/IMAGERENDE...</td>\n",
       "      <td>https://www.amazon.in/Supples-Pants-Diapers-Me...</td>\n",
       "      <td>4.0</td>\n",
       "      <td>127863.0</td>\n",
       "      <td>639.0</td>\n",
       "      <td>949</td>\n",
       "      <td>32.665964</td>\n",
       "      <td>...</td>\n",
       "      <td>0.158905</td>\n",
       "      <td>4.090684</td>\n",
       "      <td>0.673340</td>\n",
       "      <td>32.665964</td>\n",
       "      <td>511452.0</td>\n",
       "      <td>32.665964</td>\n",
       "      <td>511452.0</td>\n",
       "      <td>6626392.0</td>\n",
       "      <td>0.019296</td>\n",
       "      <td>310.0</td>\n",
       "    </tr>\n",
       "    <tr>\n",
       "      <th>1</th>\n",
       "      <td>Pampers Active Baby Taped Diapers, Medium size...</td>\n",
       "      <td>toys &amp; baby products</td>\n",
       "      <td>Baby Products</td>\n",
       "      <td>https://m.media-amazon.com/images/W/IMAGERENDE...</td>\n",
       "      <td>https://www.amazon.in/Pampers-Active-Medium-Di...</td>\n",
       "      <td>4.5</td>\n",
       "      <td>65629.0</td>\n",
       "      <td>1529.0</td>\n",
       "      <td>1699</td>\n",
       "      <td>10.005886</td>\n",
       "      <td>...</td>\n",
       "      <td>0.158905</td>\n",
       "      <td>4.090684</td>\n",
       "      <td>0.899941</td>\n",
       "      <td>10.005886</td>\n",
       "      <td>295330.5</td>\n",
       "      <td>10.005886</td>\n",
       "      <td>295330.5</td>\n",
       "      <td>6626392.0</td>\n",
       "      <td>0.009904</td>\n",
       "      <td>170.0</td>\n",
       "    </tr>\n",
       "    <tr>\n",
       "      <th>2</th>\n",
       "      <td>Mamaearth Hydragel Indian Sunscreen Spf 50, Wi...</td>\n",
       "      <td>toys &amp; baby products</td>\n",
       "      <td>Baby Products</td>\n",
       "      <td>https://m.media-amazon.com/images/W/IMAGERENDE...</td>\n",
       "      <td>https://www.amazon.in/Mamaearth-HydraGel-Sunsc...</td>\n",
       "      <td>4.0</td>\n",
       "      <td>4897.0</td>\n",
       "      <td>346.0</td>\n",
       "      <td>399</td>\n",
       "      <td>13.283208</td>\n",
       "      <td>...</td>\n",
       "      <td>0.158905</td>\n",
       "      <td>4.090684</td>\n",
       "      <td>0.867168</td>\n",
       "      <td>13.283208</td>\n",
       "      <td>19588.0</td>\n",
       "      <td>13.283208</td>\n",
       "      <td>19588.0</td>\n",
       "      <td>6626392.0</td>\n",
       "      <td>0.000739</td>\n",
       "      <td>53.0</td>\n",
       "    </tr>\n",
       "    <tr>\n",
       "      <th>3</th>\n",
       "      <td>Mamaearth Gentle Cleansing Shampoo for Babies ...</td>\n",
       "      <td>toys &amp; baby products</td>\n",
       "      <td>Baby Products</td>\n",
       "      <td>https://m.media-amazon.com/images/W/IMAGERENDE...</td>\n",
       "      <td>https://www.amazon.in/Mamaearth-Gentle-Cleansi...</td>\n",
       "      <td>4.3</td>\n",
       "      <td>19845.0</td>\n",
       "      <td>152.0</td>\n",
       "      <td>199</td>\n",
       "      <td>23.618090</td>\n",
       "      <td>...</td>\n",
       "      <td>0.158905</td>\n",
       "      <td>4.090684</td>\n",
       "      <td>0.763819</td>\n",
       "      <td>23.618090</td>\n",
       "      <td>85333.5</td>\n",
       "      <td>23.618090</td>\n",
       "      <td>85333.5</td>\n",
       "      <td>6626392.0</td>\n",
       "      <td>0.002995</td>\n",
       "      <td>47.0</td>\n",
       "    </tr>\n",
       "    <tr>\n",
       "      <th>4</th>\n",
       "      <td>Himalaya Extra Moisturizing Baby Wash, 400 ml</td>\n",
       "      <td>toys &amp; baby products</td>\n",
       "      <td>Baby Products</td>\n",
       "      <td>https://m.media-amazon.com/images/W/IMAGERENDE...</td>\n",
       "      <td>https://www.amazon.in/Himalaya-Extra-Moisturiz...</td>\n",
       "      <td>4.3</td>\n",
       "      <td>6456.0</td>\n",
       "      <td>198.0</td>\n",
       "      <td>275</td>\n",
       "      <td>28.000000</td>\n",
       "      <td>...</td>\n",
       "      <td>0.158905</td>\n",
       "      <td>4.090684</td>\n",
       "      <td>0.720000</td>\n",
       "      <td>28.000000</td>\n",
       "      <td>27760.8</td>\n",
       "      <td>28.000000</td>\n",
       "      <td>27760.8</td>\n",
       "      <td>6626392.0</td>\n",
       "      <td>0.000974</td>\n",
       "      <td>77.0</td>\n",
       "    </tr>\n",
       "  </tbody>\n",
       "</table>\n",
       "<p>5 rows × 24 columns</p>\n",
       "</div>"
      ],
      "text/plain": [
       "                                                name         main_category  \\\n",
       "0  Supples Baby Pants Diapers, Medium (7-12 kg), ...  toys & baby products   \n",
       "1  Pampers Active Baby Taped Diapers, Medium size...  toys & baby products   \n",
       "2  Mamaearth Hydragel Indian Sunscreen Spf 50, Wi...  toys & baby products   \n",
       "3  Mamaearth Gentle Cleansing Shampoo for Babies ...  toys & baby products   \n",
       "4      Himalaya Extra Moisturizing Baby Wash, 400 ml  toys & baby products   \n",
       "\n",
       "    sub_category                                              image  \\\n",
       "0  Baby Products  https://m.media-amazon.com/images/W/IMAGERENDE...   \n",
       "1  Baby Products  https://m.media-amazon.com/images/W/IMAGERENDE...   \n",
       "2  Baby Products  https://m.media-amazon.com/images/W/IMAGERENDE...   \n",
       "3  Baby Products  https://m.media-amazon.com/images/W/IMAGERENDE...   \n",
       "4  Baby Products  https://m.media-amazon.com/images/W/IMAGERENDE...   \n",
       "\n",
       "                                                link  ratings  no_of_ratings  \\\n",
       "0  https://www.amazon.in/Supples-Pants-Diapers-Me...      4.0       127863.0   \n",
       "1  https://www.amazon.in/Pampers-Active-Medium-Di...      4.5        65629.0   \n",
       "2  https://www.amazon.in/Mamaearth-HydraGel-Sunsc...      4.0         4897.0   \n",
       "3  https://www.amazon.in/Mamaearth-Gentle-Cleansi...      4.3        19845.0   \n",
       "4  https://www.amazon.in/Himalaya-Extra-Moisturiz...      4.3         6456.0   \n",
       "\n",
       "   discount_price  actual_price  discount_percentage  ...  variance_rating  \\\n",
       "0           639.0           949            32.665964  ...         0.158905   \n",
       "1          1529.0          1699            10.005886  ...         0.158905   \n",
       "2           346.0           399            13.283208  ...         0.158905   \n",
       "3           152.0           199            23.618090  ...         0.158905   \n",
       "4           198.0           275            28.000000  ...         0.158905   \n",
       "\n",
       "   average_category_rating  discount_ratio  profit_margin  sales_potential  \\\n",
       "0                 4.090684        0.673340      32.665964         511452.0   \n",
       "1                 4.090684        0.899941      10.005886         295330.5   \n",
       "2                 4.090684        0.867168      13.283208          19588.0   \n",
       "3                 4.090684        0.763819      23.618090          85333.5   \n",
       "4                 4.090684        0.720000      28.000000          27760.8   \n",
       "\n",
       "   price_sensitivity  popularity_index  category_total_ratings  \\\n",
       "0          32.665964          511452.0               6626392.0   \n",
       "1          10.005886          295330.5               6626392.0   \n",
       "2          13.283208           19588.0               6626392.0   \n",
       "3          23.618090           85333.5               6626392.0   \n",
       "4          28.000000           27760.8               6626392.0   \n",
       "\n",
       "   category_penetration_rate  discount_amount  \n",
       "0                   0.019296            310.0  \n",
       "1                   0.009904            170.0  \n",
       "2                   0.000739             53.0  \n",
       "3                   0.002995             47.0  \n",
       "4                   0.000974             77.0  \n",
       "\n",
       "[5 rows x 24 columns]"
      ]
     },
     "execution_count": 17,
     "metadata": {},
     "output_type": "execute_result"
    }
   ],
   "source": [
    "df.head()"
   ]
  },
  {
   "cell_type": "code",
   "execution_count": 18,
   "id": "61bb8a09-68d3-45eb-b8b5-df7fdcd85cd2",
   "metadata": {},
   "outputs": [],
   "source": [
    "# Remove 'image' and 'link' columns from the DataFrame\n",
    "df.drop(columns=['image', 'link'], inplace=True)"
   ]
  },
  {
   "cell_type": "code",
   "execution_count": 19,
   "id": "d5656cb4-f7b6-4906-8b04-80eba9dbe272",
   "metadata": {},
   "outputs": [
    {
     "data": {
      "text/html": [
       "<div>\n",
       "<style scoped>\n",
       "    .dataframe tbody tr th:only-of-type {\n",
       "        vertical-align: middle;\n",
       "    }\n",
       "\n",
       "    .dataframe tbody tr th {\n",
       "        vertical-align: top;\n",
       "    }\n",
       "\n",
       "    .dataframe thead th {\n",
       "        text-align: right;\n",
       "    }\n",
       "</style>\n",
       "<table border=\"1\" class=\"dataframe\">\n",
       "  <thead>\n",
       "    <tr style=\"text-align: right;\">\n",
       "      <th></th>\n",
       "      <th>name</th>\n",
       "      <th>main_category</th>\n",
       "      <th>sub_category</th>\n",
       "      <th>ratings</th>\n",
       "      <th>no_of_ratings</th>\n",
       "      <th>discount_price</th>\n",
       "      <th>actual_price</th>\n",
       "      <th>discount_percentage</th>\n",
       "      <th>price_difference</th>\n",
       "      <th>mean_rating</th>\n",
       "      <th>...</th>\n",
       "      <th>variance_rating</th>\n",
       "      <th>average_category_rating</th>\n",
       "      <th>discount_ratio</th>\n",
       "      <th>profit_margin</th>\n",
       "      <th>sales_potential</th>\n",
       "      <th>price_sensitivity</th>\n",
       "      <th>popularity_index</th>\n",
       "      <th>category_total_ratings</th>\n",
       "      <th>category_penetration_rate</th>\n",
       "      <th>discount_amount</th>\n",
       "    </tr>\n",
       "  </thead>\n",
       "  <tbody>\n",
       "    <tr>\n",
       "      <th>0</th>\n",
       "      <td>Supples Baby Pants Diapers, Medium (7-12 kg), ...</td>\n",
       "      <td>toys &amp; baby products</td>\n",
       "      <td>Baby Products</td>\n",
       "      <td>4.0</td>\n",
       "      <td>127863.0</td>\n",
       "      <td>639.0</td>\n",
       "      <td>949</td>\n",
       "      <td>32.665964</td>\n",
       "      <td>310.0</td>\n",
       "      <td>4.090684</td>\n",
       "      <td>...</td>\n",
       "      <td>0.158905</td>\n",
       "      <td>4.090684</td>\n",
       "      <td>0.673340</td>\n",
       "      <td>32.665964</td>\n",
       "      <td>511452.0</td>\n",
       "      <td>32.665964</td>\n",
       "      <td>511452.0</td>\n",
       "      <td>6626392.0</td>\n",
       "      <td>0.019296</td>\n",
       "      <td>310.0</td>\n",
       "    </tr>\n",
       "    <tr>\n",
       "      <th>1</th>\n",
       "      <td>Pampers Active Baby Taped Diapers, Medium size...</td>\n",
       "      <td>toys &amp; baby products</td>\n",
       "      <td>Baby Products</td>\n",
       "      <td>4.5</td>\n",
       "      <td>65629.0</td>\n",
       "      <td>1529.0</td>\n",
       "      <td>1699</td>\n",
       "      <td>10.005886</td>\n",
       "      <td>170.0</td>\n",
       "      <td>4.090684</td>\n",
       "      <td>...</td>\n",
       "      <td>0.158905</td>\n",
       "      <td>4.090684</td>\n",
       "      <td>0.899941</td>\n",
       "      <td>10.005886</td>\n",
       "      <td>295330.5</td>\n",
       "      <td>10.005886</td>\n",
       "      <td>295330.5</td>\n",
       "      <td>6626392.0</td>\n",
       "      <td>0.009904</td>\n",
       "      <td>170.0</td>\n",
       "    </tr>\n",
       "    <tr>\n",
       "      <th>2</th>\n",
       "      <td>Mamaearth Hydragel Indian Sunscreen Spf 50, Wi...</td>\n",
       "      <td>toys &amp; baby products</td>\n",
       "      <td>Baby Products</td>\n",
       "      <td>4.0</td>\n",
       "      <td>4897.0</td>\n",
       "      <td>346.0</td>\n",
       "      <td>399</td>\n",
       "      <td>13.283208</td>\n",
       "      <td>53.0</td>\n",
       "      <td>4.090684</td>\n",
       "      <td>...</td>\n",
       "      <td>0.158905</td>\n",
       "      <td>4.090684</td>\n",
       "      <td>0.867168</td>\n",
       "      <td>13.283208</td>\n",
       "      <td>19588.0</td>\n",
       "      <td>13.283208</td>\n",
       "      <td>19588.0</td>\n",
       "      <td>6626392.0</td>\n",
       "      <td>0.000739</td>\n",
       "      <td>53.0</td>\n",
       "    </tr>\n",
       "    <tr>\n",
       "      <th>3</th>\n",
       "      <td>Mamaearth Gentle Cleansing Shampoo for Babies ...</td>\n",
       "      <td>toys &amp; baby products</td>\n",
       "      <td>Baby Products</td>\n",
       "      <td>4.3</td>\n",
       "      <td>19845.0</td>\n",
       "      <td>152.0</td>\n",
       "      <td>199</td>\n",
       "      <td>23.618090</td>\n",
       "      <td>47.0</td>\n",
       "      <td>4.090684</td>\n",
       "      <td>...</td>\n",
       "      <td>0.158905</td>\n",
       "      <td>4.090684</td>\n",
       "      <td>0.763819</td>\n",
       "      <td>23.618090</td>\n",
       "      <td>85333.5</td>\n",
       "      <td>23.618090</td>\n",
       "      <td>85333.5</td>\n",
       "      <td>6626392.0</td>\n",
       "      <td>0.002995</td>\n",
       "      <td>47.0</td>\n",
       "    </tr>\n",
       "    <tr>\n",
       "      <th>4</th>\n",
       "      <td>Himalaya Extra Moisturizing Baby Wash, 400 ml</td>\n",
       "      <td>toys &amp; baby products</td>\n",
       "      <td>Baby Products</td>\n",
       "      <td>4.3</td>\n",
       "      <td>6456.0</td>\n",
       "      <td>198.0</td>\n",
       "      <td>275</td>\n",
       "      <td>28.000000</td>\n",
       "      <td>77.0</td>\n",
       "      <td>4.090684</td>\n",
       "      <td>...</td>\n",
       "      <td>0.158905</td>\n",
       "      <td>4.090684</td>\n",
       "      <td>0.720000</td>\n",
       "      <td>28.000000</td>\n",
       "      <td>27760.8</td>\n",
       "      <td>28.000000</td>\n",
       "      <td>27760.8</td>\n",
       "      <td>6626392.0</td>\n",
       "      <td>0.000974</td>\n",
       "      <td>77.0</td>\n",
       "    </tr>\n",
       "  </tbody>\n",
       "</table>\n",
       "<p>5 rows × 22 columns</p>\n",
       "</div>"
      ],
      "text/plain": [
       "                                                name         main_category  \\\n",
       "0  Supples Baby Pants Diapers, Medium (7-12 kg), ...  toys & baby products   \n",
       "1  Pampers Active Baby Taped Diapers, Medium size...  toys & baby products   \n",
       "2  Mamaearth Hydragel Indian Sunscreen Spf 50, Wi...  toys & baby products   \n",
       "3  Mamaearth Gentle Cleansing Shampoo for Babies ...  toys & baby products   \n",
       "4      Himalaya Extra Moisturizing Baby Wash, 400 ml  toys & baby products   \n",
       "\n",
       "    sub_category  ratings  no_of_ratings  discount_price  actual_price  \\\n",
       "0  Baby Products      4.0       127863.0           639.0           949   \n",
       "1  Baby Products      4.5        65629.0          1529.0          1699   \n",
       "2  Baby Products      4.0         4897.0           346.0           399   \n",
       "3  Baby Products      4.3        19845.0           152.0           199   \n",
       "4  Baby Products      4.3         6456.0           198.0           275   \n",
       "\n",
       "   discount_percentage  price_difference  mean_rating  ...  variance_rating  \\\n",
       "0            32.665964             310.0     4.090684  ...         0.158905   \n",
       "1            10.005886             170.0     4.090684  ...         0.158905   \n",
       "2            13.283208              53.0     4.090684  ...         0.158905   \n",
       "3            23.618090              47.0     4.090684  ...         0.158905   \n",
       "4            28.000000              77.0     4.090684  ...         0.158905   \n",
       "\n",
       "   average_category_rating  discount_ratio  profit_margin  sales_potential  \\\n",
       "0                 4.090684        0.673340      32.665964         511452.0   \n",
       "1                 4.090684        0.899941      10.005886         295330.5   \n",
       "2                 4.090684        0.867168      13.283208          19588.0   \n",
       "3                 4.090684        0.763819      23.618090          85333.5   \n",
       "4                 4.090684        0.720000      28.000000          27760.8   \n",
       "\n",
       "   price_sensitivity  popularity_index  category_total_ratings  \\\n",
       "0          32.665964          511452.0               6626392.0   \n",
       "1          10.005886          295330.5               6626392.0   \n",
       "2          13.283208           19588.0               6626392.0   \n",
       "3          23.618090           85333.5               6626392.0   \n",
       "4          28.000000           27760.8               6626392.0   \n",
       "\n",
       "   category_penetration_rate  discount_amount  \n",
       "0                   0.019296            310.0  \n",
       "1                   0.009904            170.0  \n",
       "2                   0.000739             53.0  \n",
       "3                   0.002995             47.0  \n",
       "4                   0.000974             77.0  \n",
       "\n",
       "[5 rows x 22 columns]"
      ]
     },
     "execution_count": 19,
     "metadata": {},
     "output_type": "execute_result"
    }
   ],
   "source": [
    "df.head()"
   ]
  },
  {
   "cell_type": "markdown",
   "id": "468fbda0-ba1b-420a-a860-56875445c1a9",
   "metadata": {},
   "source": [
    "## Visualization"
   ]
  },
  {
   "cell_type": "code",
   "execution_count": 21,
   "id": "c9759082-f91f-439e-b8d5-45c97e503915",
   "metadata": {},
   "outputs": [
    {
     "data": {
      "image/png": "[encoded data removed]",
      "text/plain": [
       "<Figure size 1000x600 with 1 Axes>"
      ]
     },
     "metadata": {},
     "output_type": "display_data"
    }
   ],
   "source": [
    "import matplotlib.pyplot as plt\n",
    "import seaborn as sns\n",
    "# Visualization 1: Distribution of Ratings\n",
    "plt.figure(figsize=(10, 6))\n",
    "sns.histplot(df['ratings'], bins=20, kde=True, color='blue')\n",
    "plt.title('Distribution of Product Ratings')\n",
    "plt.xlabel('Ratings')\n",
    "plt.ylabel('Frequency')\n",
    "plt.grid(axis='y', linestyle='--', alpha=0.7)\n",
    "plt.show()\n"
   ]
  },
  {
   "cell_type": "code",
   "execution_count": 22,
   "id": "81413873-4133-4c90-918b-655fa29e962f",
   "metadata": {},
   "outputs": [
    {
     "data": {
      "image/png": "[encoded data removed]",
      "text/plain": [
       "<Figure size 1000x600 with 1 Axes>"
      ]
     },
     "metadata": {},
     "output_type": "display_data"
    }
   ],
   "source": [
    "# Visualization 2: Profit Margin vs. Actual Price\n",
    "plt.figure(figsize=(10, 6))\n",
    "sns.scatterplot(x='actual_price', y='profit_margin', data=df, color='orange')\n",
    "plt.title('Profit Margin vs. Actual Price')\n",
    "plt.xlabel('Actual Price')\n",
    "plt.ylabel('Profit Margin (%)')\n",
    "plt.grid()\n",
    "plt.show()\n"
   ]
  },
  {
   "cell_type": "code",
   "execution_count": 23,
   "id": "3a957bed-2076-43c4-bcda-9d1c6d9e9cd7",
   "metadata": {},
   "outputs": [
    {
     "name": "stderr",
     "output_type": "stream",
     "text": [
      "C:\\Users\\RAMEEN SHAHID\\AppData\\Local\\Temp\\ipykernel_13072\\3014529514.py:5: FutureWarning: \n",
      "\n",
      "Passing `palette` without assigning `hue` is deprecated and will be removed in v0.14.0. Assign the `x` variable to `hue` and set `legend=False` for the same effect.\n",
      "\n",
      "  sns.barplot(x='main_category', y='discount_percentage', data=average_discount, palette='viridis')\n"
     ]
    },
    {
     "data": {
      "image/png": "[encoded data removed]",
      "text/plain": [
       "<Figure size 1200x600 with 1 Axes>"
      ]
     },
     "metadata": {},
     "output_type": "display_data"
    }
   ],
   "source": [
    "# Visualization 3: Average Discount Percentage by Category\n",
    "average_discount = df.groupby('main_category')['discount_percentage'].mean().reset_index()\n",
    "\n",
    "plt.figure(figsize=(12, 6))\n",
    "sns.barplot(x='main_category', y='discount_percentage', data=average_discount, palette='viridis')\n",
    "plt.title('Average Discount Percentage by Main Category')\n",
    "plt.xlabel('Main Category')\n",
    "plt.ylabel('Average Discount Percentage (%)')\n",
    "plt.xticks(rotation=45)\n",
    "plt.grid(axis='y', linestyle='--', alpha=0.7)\n",
    "plt.show()"
   ]
  },
  {
   "cell_type": "code",
   "execution_count": 24,
   "id": "5d8019d8-ada7-42d3-b57f-f7d59b674e94",
   "metadata": {},
   "outputs": [],
   "source": [
    "# Save the cleaned dataset to a new CSV file\n",
    "df.to_csv('Cleaned_Baby_Products.csv', index=False)"
   ]
  },
  {
   "cell_type": "code",
   "execution_count": null,
   "id": "d4d1740e-b462-4563-9ae7-07902ace1bc8",
   "metadata": {},
   "outputs": [],
   "source": []
  }
 ],
 "metadata": {
  "kernelspec": {
   "display_name": "Python 3 (ipykernel)",
   "language": "python",
   "name": "python3"
  },
  "language_info": {
   "codemirror_mode": {
    "name": "ipython",
    "version": 3
   },
   "file_extension": ".py",
   "mimetype": "text/x-python",
   "name": "python",
   "nbconvert_exporter": "python",
   "pygments_lexer": "ipython3",
   "version": "3.9.21"
  }
 },
 "nbformat": 4,
 "nbformat_minor": 5
}
